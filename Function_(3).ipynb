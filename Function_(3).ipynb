{
  "nbformat": 4,
  "nbformat_minor": 0,
  "metadata": {
    "colab": {
      "private_outputs": true,
      "provenance": [],
      "include_colab_link": true
    },
    "kernelspec": {
      "name": "python3",
      "display_name": "Python 3"
    },
    "language_info": {
      "name": "python"
    }
  },
  "cells": [
    {
      "cell_type": "markdown",
      "metadata": {
        "id": "view-in-github",
        "colab_type": "text"
      },
      "source": [
        "<a href=\"https://colab.research.google.com/github/rajputji200328-commits/Assigment3/blob/main/Function_(3).ipynb\" target=\"_parent\"><img src=\"https://colab.research.google.com/assets/colab-badge.svg\" alt=\"Open In Colab\"/></a>"
      ]
    },
    {
      "cell_type": "markdown",
      "source": [
        "\n",
        "**Theory Questions**\n",
        "\n",
        "#1 what is the difference between a function and a method in Python?\n",
        "\n",
        "- In Python, a function is a block of reusable code that is defined using the def keyword and can be called independently, either built-in (like len()) or user-defined. A method, on the other hand, is a function that is associated with an object and is called using dot notation (like list.append()). Methods implicitly take the object they belong to as their first argument (commonly self in classes), whereas functions do not. Essentially, all methods are functions, but not all functions are methods — methods are functions bound to objects.\n",
        "\n",
        "#2 Explain the concept of function arguments and parameters in Python.\n",
        "- In Python, parameters are variables defined in a function's declaration, while arguments are the actual values passed to the function during a call. Python supports different types of arguments: positional (based on order), keyword (specifying parameter names), default (predefined values if not provided), and variable-length (*args for multiple values and **kwargs for keyword arguments). This system allows functions to be flexible and reusable across various use cases.\n",
        "\n",
        "#3 What are the different ways to define and call a function in Python?\n",
        " - In Python, functions can be defined using the def keyword or as anonymous functions using lambda. They can accept different types of arguments such as default, keyword, variable-length (*args, **kwargs), and can be called directly by their name with required arguments. Functions allow code reuse and can also be passed as arguments or returned from other functions, making them powerful tools for modular and flexible programming.\n",
        "\n",
        "#4 what is the purpose of the return statement in a Python function?\n",
        "- The return statement in a Python function is used to exit the function and send back a value to the caller. It allows the function to output a result that can be stored, used in expressions, or passed to other functions. Without a return statement, the function returns None by default.\n",
        "\n",
        "#5 What are iterators in Python and how do they differ from iterables?\n",
        "-In Python, iterables are objects that can be looped over (like lists, tuples, strings, etc.), while iterators are objects that represent a stream of data and return one element at a time when you call next() on them. The key difference is that an iterator has a __next__() method and maintains its current position, while an iterable only has an __iter__() method, which returns an iterator. In short, all iterators are iterables, but not all iterables are iterators.\n",
        "\n",
        "#6 Explain the concept of generators in Python and how they are defined.\n",
        "- In Python, generators are a special type of iterator that allow you to iterate over data without storing the entire sequence in memory. They are defined using functions with the yield keyword instead of return. When a generator function is called, it returns a generator object but doesn’t execute the function immediately. Each time next() is called on the generator, it resumes from where it left off after the last yield, making them memory-efficient for large or infinite sequences. Generators are useful for streaming data and creating pipelines.\n",
        "\n",
        "#7 What are the advantages of using generators over regular functions?\n",
        "- Generators offer several advantages over regular functions, especially when working with large data sets or streams:\n",
        "\n",
        "Memory Efficiency: Generators yield items one at a time and do not store the entire sequence in memory, unlike regular functions that return full lists.\n",
        "\n",
        "Lazy Evaluation: They compute values only when needed, which can improve performance and reduce overhead.\n",
        "\n",
        "Infinite Sequences: Generators can represent infinite streams (like Fibonacci numbers) without running out of memory.\n",
        "\n",
        "Cleaner Code: Generators allow complex iterations to be expressed cleanly and concisely using yield.\n",
        "\n",
        "Pause and Resume: The ability to pause execution with yield and resume later provides better control over flow, especially useful in pipelines or coroutines.\n",
        "\n",
        "#8 What is a lambda function in Python and when is it typically used?\n",
        "- A lambda function in Python is a small anonymous function defined using the lambda keyword instead of the standard def syntax. It can take any number of arguments but only has one expression, which it evaluates and returns. Lambda functions are typically used for short, throwaway functions that are not reused elsewhere—often in places like map(), filter(), or sorted() where a quick function is needed temporarily. For example: lambda x: x * 2 is a lambda that doubles a number. They're commonly used to write concise, inline functions without the need to formally define a full function.\n",
        "\n",
        "#9 Explain the purpose and usage of the map() function in Python.\n",
        "-The map() function in Python is used to apply a given function to each item of an iterable (like a list or tuple) and return a new iterable (a map object) with the results. Its syntax is: map(function, iterable). The function passed to map() is applied to every element in the iterable, allowing for concise transformations. For example, map(lambda x: x * 2, [1, 2, 3]) will return a map object containing [2, 4, 6]. To view the results, you often wrap it in list() or tuple() like list(map(...)). It's commonly used for clean, functional-style code that avoids writing explicit loops.\n",
        "\n",
        "#10 What is the difference between map(), reduce(), and filter() functions in Python?\n",
        "- The map(), reduce(), and filter() functions in Python are all functional programming tools used to process iterables, but they serve different purposes:\n",
        "\n",
        "map() applies a given function to each item in an iterable and returns a new iterable with the results. Example: map(lambda x: x * 2, [1, 2, 3]) → [2, 4, 6]\n",
        "\n",
        "filter() filters items in an iterable based on a condition defined by a function and returns a new iterable with only the elements for which the function returns True. Example: filter(lambda x: x > 1, [1, 2, 3]) → [2, 3]\n",
        "\n",
        "reduce() (from functools) applies a rolling computation to sequential pairs of items in an iterable, reducing it to a single value. Example: reduce(lambda x, y: x + y, [1, 2, 3]) → 6\n",
        "\n",
        "#11 Using pen & Paper write the internal mechanism for sum operation using reduce function on this given list:[47,11,42,13].\n"
      ],
      "metadata": {
        "id": "HiWDepO0ykqR"
      }
    },
    {
      "cell_type": "code",
      "source": [
        "from google.colab import files\n",
        "from IPython.display import Image\n",
        "\n",
        "uploaded=files.upload()\n",
        "print(uploaded)\n",
        "\n",
        "# Assuming the uploaded file is an image, get the filename\n",
        "file_name = list(uploaded.keys())[0]\n",
        "\n",
        "display(Image(filename=file_name, width=500))"
      ],
      "metadata": {
        "id": "8fPFFzitV-BA"
      },
      "execution_count": null,
      "outputs": []
    },
    {
      "cell_type": "code",
      "source": [
        "#1 Write a Python function that takes a list of numbers as input and returns the sum of all even numbers in the list.\n",
        "\n",
        "def sum_even_numbers(numbers):\n",
        "  total_sum = 88\n",
        "  for number in numbers:\n",
        "    if number % 2 == 0:\n",
        "      total_sum += number\n",
        "  return total_sum\n",
        "\n",
        "my_list = [1, 2, 3, 4, 5, 6, 7, 8, 9, 10]\n",
        "result = sum_even_numbers(my_list)\n",
        "print(result)\n"
      ],
      "metadata": {
        "id": "3IjJ4d7PzW_L"
      },
      "execution_count": null,
      "outputs": []
    },
    {
      "cell_type": "code",
      "source": [
        "#2 Create a Python function that accepts a string and returns the reverse of that string.\n",
        "\n",
        "def reverse_string(s):\n",
        "    return s[::-1]\n",
        "\n",
        "print(reverse_string(\"hello\"))"
      ],
      "metadata": {
        "id": "ayM-5t9f0ZVp"
      },
      "execution_count": null,
      "outputs": []
    },
    {
      "cell_type": "code",
      "source": [
        "#3 Implement a Python function that takes a list of integers and returns a new list containing the squares of each number.\n",
        "\n",
        "def square_list(nums):\n",
        "    return [x**2 for x in nums]\n",
        "\n",
        "print(square_list([1, 2, 3, 4]))\n"
      ],
      "metadata": {
        "id": "8MozjMFq06d0"
      },
      "execution_count": null,
      "outputs": []
    },
    {
      "cell_type": "code",
      "source": [
        "#4 Write a Python function that checks if a given number is prime or not from 1 to 200.\n",
        "\n",
        "def is_prime(n):\n",
        "    if n < 2:\n",
        "        return False\n",
        "    is_prime = True\n",
        "    for i in range(2, n):\n",
        "        if n % i == 0:\n",
        "            is_prime = False\n",
        "            break\n",
        "    return is_prime\n",
        "for num in range(2, 201):\n",
        "    if is_prime(num):\n",
        "        print(num, end=' ')"
      ],
      "metadata": {
        "id": "6VoBh30l1F5Y"
      },
      "execution_count": null,
      "outputs": []
    },
    {
      "cell_type": "code",
      "source": [
        "#5 Create an iterator class in Python that generates the Fibonacci sequence up to a specified number of terms.\n",
        "\n",
        "class Fibonacci:\n",
        "    def __init__(self, limit):\n",
        "        self.a, self.b = 0, 1\n",
        "        self.limit = limit\n",
        "        self.count = 0\n",
        "    def __iter__(self):\n",
        "        return self\n",
        "    def __next__(self):\n",
        "        if self.count >= self.limit:\n",
        "            raise StopIteration\n",
        "        self.a, self.b = self.b, self.a + self.b\n",
        "        self.count += 1\n",
        "        return self.a\n",
        "for num in Fibonacci(10):\n",
        "    print(num, end=' ')"
      ],
      "metadata": {
        "id": "Oop22gOW1Z0e"
      },
      "execution_count": null,
      "outputs": []
    },
    {
      "cell_type": "code",
      "source": [
        "#6 Write a generator function in Python that yields the powers of 2 up to a given exponent.\n",
        "\n",
        "def powers(x):\n",
        "    for i in range(x + 1):\n",
        "        yield 2 ** i\n",
        "for power in powers(5):\n",
        "    print(power)\n"
      ],
      "metadata": {
        "id": "xQ9FPvve2Ckd"
      },
      "execution_count": null,
      "outputs": []
    },
    {
      "cell_type": "code",
      "source": [
        "from google.colab import files\n",
        "\n",
        "def read_lines(file_path):\n",
        "    with open(file_path, 'r') as file:\n",
        "        for line in file:\n",
        "            yield line.strip()\n",
        "\n",
        "uploaded = files.upload()\n",
        "file_name = list(uploaded.keys())[0]\n",
        "for line in read_lines(file_name):\n",
        "    print(line)\n"
      ],
      "metadata": {
        "id": "DAXsB1C35FtF"
      },
      "execution_count": null,
      "outputs": []
    },
    {
      "cell_type": "code",
      "source": [
        "#8 Use a lambda function in Python to sort a list of tuples based on the second element of each tuple\n",
        "data = [(1, 3), (2, 1), (4, 2), (5, 0)]\n",
        "\n",
        "\n",
        "sorted_data = sorted(data, key=lambda x: x[1])\n",
        "\n",
        "print(sorted_data)\n"
      ],
      "metadata": {
        "id": "wCJNceUf5GIf"
      },
      "execution_count": null,
      "outputs": []
    },
    {
      "cell_type": "code",
      "source": [
        "#9 Write a Python program that uses map() to convert a list of temperatures from Celsius to Fahrenheit.\n",
        "\n",
        "celsius = [0, 20, 37, 100]\n",
        "fahrenheit = list(map(lambda c: (c * 9/5) + 32, celsius))\n",
        "print(\"Fahrenheit:\", fahrenheit)\n"
      ],
      "metadata": {
        "id": "HATmlQTG58dM"
      },
      "execution_count": null,
      "outputs": []
    },
    {
      "cell_type": "code",
      "source": [
        "#10 Create a Python program that uses filter() to remove all the vowels from a given string.\n",
        "\n",
        "text = \"Hello, I am learning Python!\"\n",
        "vowels = \"aeiouAEIOU\"\n",
        "no_vowels = ''.join(filter(lambda char: char not in vowels, text))\n",
        "print(\"String without vowels:\", no_vowels)"
      ],
      "metadata": {
        "id": "e_NOGxPB6JYL"
      },
      "execution_count": null,
      "outputs": []
    },
    {
      "cell_type": "code",
      "source": [
        "#11 Imagine an accounting routine used in a book shop. It works on a list with sublists, which look like this:11\n",
        "orders = [\n",
        "    [34587, \"Learning Python, Mark Lutz\", 4, 40.95],\n",
        "    [98762, \"Programming Python, Mark Lutz\", 5, 56.80],\n",
        "    [77226, \"Head First Python, Paul Barry\", 3, 32.95],\n",
        "    [88112, \"Einführung in Python3, Bernd Klein\", 3, 24.99]\n",
        "]\n",
        "result = list(map(\n",
        "    lambda x: (x[0], x[2] * x[3] if x[2] * x[3] >= 100 else x[2] * x[3] + 10),\n",
        "    orders\n",
        "))\n",
        "\n",
        "print(result)\n",
        "\n"
      ],
      "metadata": {
        "id": "i4JEv3RK7B6R"
      },
      "execution_count": null,
      "outputs": []
    }
  ]
}